{
 "cells": [
  {
   "cell_type": "code",
   "execution_count": 1,
   "metadata": {},
   "outputs": [
    {
     "name": "stdout",
     "output_type": "stream",
     "text": [
      "/home/aronton/tSDRG_random/tSDRG/Sub_script/sub\n"
     ]
    }
   ],
   "source": [
    "%%bash\n",
    "\n",
    "get_script_dir () {\n",
    "     SOURCE=\"${BASH_SOURCE[0]}\"\n",
    "     # While $SOURCE is a symlink, resolve it\n",
    "     while [ -h \"$SOURCE\" ]; do\n",
    "          DIR=\"$( cd -P \"$( dirname \"$SOURCE\" )\" && pwd )\"\n",
    "          SOURCE=\"$( readlink \"$SOURCE\" )\"\n",
    "          # If $SOURCE was a relative symlink (so no \"/\" as prefix, need to resolve it relative to the symlink base directory\n",
    "          [[ $SOURCE != /* ]] && SOURCE=\"$DIR/$SOURCE\"\n",
    "     done\n",
    "     DIR=\"$( cd -P \"$( dirname \"$SOURCE\" )\" && pwd )\"\n",
    "     echo \"$DIR\"\n",
    "}\n",
    "echo \"$(get_script_dir)\""
   ]
  },
  {
   "cell_type": "code",
   "execution_count": null,
   "metadata": {},
   "outputs": [],
   "source": [
    "import os\n",
    "import math\n",
    "import pandas as pd \n",
    "import numpy as np\n",
    "import matplotlib.pyplot as plt \n",
    "from scipy.optimize import curve_fit\n",
    "import time\n",
    "import sys\n",
    "\n",
    "\n"
   ]
  }
 ],
 "metadata": {
  "kernelspec": {
   "display_name": "base",
   "language": "python",
   "name": "python3"
  },
  "language_info": {
   "codemirror_mode": {
    "name": "ipython",
    "version": 3
   },
   "file_extension": ".py",
   "mimetype": "text/x-python",
   "name": "python",
   "nbconvert_exporter": "python",
   "pygments_lexer": "ipython3",
   "version": "3.8.3"
  },
  "orig_nbformat": 4
 },
 "nbformat": 4,
 "nbformat_minor": 2
}
